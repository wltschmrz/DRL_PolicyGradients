{
  "nbformat": 4,
  "nbformat_minor": 0,
  "metadata": {
    "colab": {
      "provenance": []
    },
    "kernelspec": {
      "name": "python3",
      "display_name": "Python 3"
    },
    "language_info": {
      "name": "python"
    }
  },
  "cells": [
    {
      "cell_type": "code",
      "execution_count": null,
      "metadata": {
        "id": "eQlHgYpqeTKo"
      },
      "outputs": [],
      "source": [
        "import gymnasium as gym\n",
        "\n",
        "import torch\n",
        "import torch.nn as nn\n",
        "import torch.optim as optim\n",
        "from torch.distributions import MultivariateNormal\n",
        "\n",
        "import numpy as np\n",
        "from tqdm import tqdm\n",
        "import matplotlib.pyplot as plt\n",
        "\n",
        "from omegaconf as OmegaConf\n",
        "\n",
        "import copy\n",
        "import collections\n",
        "import random\n",
        "\n",
        "import glob\n",
        "import io\n",
        "import base64\n",
        "from IPython.display import HTML\n",
        "from IPython import display as ipythondisplay\n",
        "from pyvirtualdisplay import Display"
      ]
    },
    {
      "cell_type": "code",
      "source": [
        "display = Display(visible=0, size=(1400, 900))\n",
        "display.start()\n",
        "\n",
        "def show_video():\n",
        "  mp4list = glob.glob('video/*.mp4')\n",
        "  if len(mp4list) > 0:\n",
        "    mp4 = mp4list[0]\n",
        "    video = io.open(mp4, 'r+b').read()\n",
        "    encoded = base64.b64encode(video)\n",
        "    ipythondisplay.display(HTML(data='''<video alt=\"test\" autoplay\n",
        "                loop controls style=\"height: 400px;\">\n",
        "                <source src=\"data:video/mp4;base64,{0}\" type=\"video/mp4\" />\n",
        "             </video>'''.format(encoded.decode('ascii'))))\n",
        "    else:\n",
        "      print(\"Could not find video\")"
      ],
      "metadata": {
        "id": "ZxxdUPJPffMK"
      },
      "execution_count": null,
      "outputs": []
    },
    {
      "cell_type": "code",
      "source": [
        "env_name = 'Ant_v4'\n",
        "env = gym.make(env_name)\n",
        "\n",
        "device = 'cuda' if torch.cuda.is_available() else 'cpu'\n",
        "\n",
        "prms_config = OmegaConf.create({\n",
        "    'gamma': 0.99,\n",
        "    'device': device,\n",
        "    'state_dim': env.observation_space.shape[0],\n",
        "    'hidden_dim': 64,\n",
        "    'action_dim': env.action_space.shape[0],\n",
        "    'actor_lr': 1e-4,\n",
        "    'critic_lr': 1e-3,\n",
        "    'tau': 5e-3,\n",
        "\n",
        "})"
      ],
      "metadata": {
        "id": "uFMFWOPefh4a"
      },
      "execution_count": null,
      "outputs": []
    }
  ]
}